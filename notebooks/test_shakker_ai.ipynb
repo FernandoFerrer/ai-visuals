{
 "cells": [
  {
   "cell_type": "markdown",
   "metadata": {},
   "source": [
    "### Generate image:"
   ]
  },
  {
   "cell_type": "code",
   "execution_count": 93,
   "metadata": {},
   "outputs": [],
   "source": [
    "img_generation_prompt = \"A happy white and black chiuaua flying in a space ship at speed of light through the cosmos\""
   ]
  },
  {
   "cell_type": "code",
   "execution_count": 94,
   "metadata": {},
   "outputs": [
    {
     "name": "stdout",
     "output_type": "stream",
     "text": [
      "Image generation successful\n"
     ]
    }
   ],
   "source": [
    "import requests\n",
    "\n",
    "# Define the URL\n",
    "url = \"https://www.shakker.ai/gateway/sd-api/generate/image\"\n",
    "\n",
    "# Define the headers\n",
    "headers = {\n",
    "    \"accept\": \"application/json, text/plain, */*\",\n",
    "    \"accept-encoding\": \"gzip, deflate, br, zstd\",\n",
    "    \"accept-language\": \"es-ES,es;q=0.9,en;q=0.8,ja;q=0.7\",\n",
    "    \"content-type\": \"application/json\",\n",
    "    \"cookie\": \"webid=1722522066198gymgfquo; _ga=GA1.1.1933820078.1722522067; _pin_unauth=dWlkPU56QTNNR0ZtWWpRdE5qaGpNUzAwTWpVeExUa3lOR0l0TW1KbU9XRmlPV1pqWWpreA; _fbp=fb.1.1722522067794.990136762487761577; _bl_uid=6zlbdzh8be9d616v62Ieggg9UU8s; liblibai_usertoken=e4b321aa535e4fa0bbb2e797ce2656c1; _rdt_uuid=1722522066470.7f91e2f6-e2a8-4ff7-b26d-672bbce85af6; _rdt_em=0000000000000000000000000000000000000000000000000000000000000001; _ga_S0NDCL8GH6=GS1.1.1722596988.3.1.1722597011.0.0.0\",\n",
    "    \"origin\": \"https://www.shakker.ai\",\n",
    "    \"priority\": \"u=1, i\",\n",
    "    \"referer\": \"https://www.shakker.ai/v4/editor\",\n",
    "    \"sec-ch-ua\": '\"Not)A;Brand\";v=\"99\", \"Google Chrome\";v=\"127\", \"Chromium\";v=\"127\"',\n",
    "    \"sec-ch-ua-mobile\": \"?0\",\n",
    "    \"sec-ch-ua-platform\": '\"Windows\"',\n",
    "    \"sec-fetch-dest\": \"empty\",\n",
    "    \"sec-fetch-mode\": \"cors\",\n",
    "    \"sec-fetch-site\": \"same-origin\",\n",
    "    \"token\": \"e4b321aa535e4fa0bbb2e797ce2656c1\",\n",
    "    \"user-agent\": \"Mozilla/5.0 (Windows NT 10.0; Win64; x64) AppleWebKit/537.36 (KHTML, like Gecko) Chrome/127.0.0.0 Safari/537.36\",\n",
    "    \"x-language\": \"en\"\n",
    "}\n",
    "\n",
    "# Define the payload\n",
    "payload = {\n",
    "    \"checkpointId\": 1489596,\n",
    "    \"generateType\": 17,\n",
    "    \"frontCustomerReq\": {\n",
    "        \"frontId\": \"bbab683e-c5e0-4ec0-8600-848a6c5b9a03\",\n",
    "        \"windowId\": \"\",\n",
    "        \"tabType\": \"txt2img\",\n",
    "        \"conAndSegAndGen\": \"gen\"\n",
    "    },\n",
    "    \"text2imgV3\": {\n",
    "        \"clipSkip\": 2,\n",
    "        \"checkPointName\": 1489596,\n",
    "        \"prompt\": img_generation_prompt,\n",
    "        \"negPrompt\": \"ng_deepnegative_v1_75t,(badhandv4:1.2),EasyNegative,(worst quality:2),\",\n",
    "        \"seed\": -1,\n",
    "        \"randnSource\": 0,\n",
    "        \"samplingMethod\": 31,\n",
    "        \"imgCount\": 1,\n",
    "        \"samplingStep\": 28,\n",
    "        \"cfgScale\": 4.5,\n",
    "        \"width\": 1024,\n",
    "        \"height\": 1024\n",
    "    },\n",
    "    \"taskQueuePriority\": 1\n",
    "}\n",
    "\n",
    "# Make the POST request\n",
    "response = requests.post(url, json=payload, headers=headers)\n",
    "\n",
    "# Check the response status\n",
    "if response.status_code == 200:\n",
    "    print(\"Image generation successful\")\n",
    "    # Save or display the image data\n",
    "    with open(\"generated_image.png\", \"wb\") as f:\n",
    "        f.write(response.content)\n",
    "else:\n",
    "    print(f\"Failed to generate image. Status code: {response.status_code}\")\n",
    "    print(response.text)"
   ]
  },
  {
   "cell_type": "markdown",
   "metadata": {},
   "source": [
    "#### Get generation id:"
   ]
  },
  {
   "cell_type": "code",
   "execution_count": 95,
   "metadata": {},
   "outputs": [
    {
     "name": "stdout",
     "output_type": "stream",
     "text": [
      "Generation ID: 2690726\n"
     ]
    }
   ],
   "source": [
    "response_json = response.json()\n",
    "generation_id = response_json['data']\n",
    "print(f\"Generation ID: {generation_id}\")"
   ]
  },
  {
   "cell_type": "markdown",
   "metadata": {},
   "source": [
    "### Check generation status:"
   ]
  },
  {
   "cell_type": "code",
   "execution_count": 99,
   "metadata": {},
   "outputs": [
    {
     "name": "stdout",
     "output_type": "stream",
     "text": [
      "{'code': 0, 'data': {'frontCustomerReq': {'frontId': 'bbab683e-c5e0-4ec0-8600-848a6c5b9a03', 'windowId': '', 'tabType': 'txt2img', 'conAndSegAndGen': 'gen'}, 'errCode': None, 'userId': 882982, 'uuid': None, 'generateId': 2690726, 'subType': 17, 'subStatus': 2, 'statusMsg': None, 'totalStep': 29, 'currentSteps': 29, 'percentCompleted': 100, 'timeTaken': 8, 'estTimeLeft': 0, 'images': [{'id': 5853778, 'previewPath': 'https://models-online-tmp.shakker.ai/sd-images/9877d515f63f846379a3c28acbdc083b9a42ce034187592eb57387a284e9fdad.png', 'storagePath': 'sd-images/9877d515f63f846379a3c28acbdc083b9a42ce034187592eb57387a284e9fdad.png', 'illegal': None, 'isNfsw': None, 'imageInfo': '', 'script': None, 'isScript': None, 'openposeJson': None, 'nodeId': None}], 'videos': [], 'saveStatus': True, 'image2Txt': None, 'generateSubId': None, 'queueStatus': 0, 'queueName': None, 'power': 12, 'taskQueuePriority': 1, 'currentNodeName': None, 'currentNodeId': None, 'executedNodeIds': None, 'queueNum': None, 'subTypeName': 'Txt2Img', 'totalQueueNum': None, 'extraType': 0, 'pnginfoId': '1819346670534344706', 'prompt': 'A happy space dog flying in a space ship at speed of light through the cosmos', 'sourceImageId': '', 'batchCount': 1, 'batchSize': 1}, 'msg': ''}\n",
      "Percentage comlpeted: 100 %\n"
     ]
    }
   ],
   "source": [
    "import requests\n",
    "\n",
    "# Define the status check URL using the generation ID\n",
    "status_url = f\"https://www.shakker.ai/gateway/sd-api/generate/progress/msg/v3/{generation_id}\"\n",
    "\n",
    "# Define the headers\n",
    "headers = {\n",
    "    \"accept\": \"application/json, text/plain, */*\",\n",
    "    \"accept-encoding\": \"gzip, deflate, br, zstd\",\n",
    "    \"accept-language\": \"es-ES,es;q=0.9,en;q=0.8,ja;q=0.7\",\n",
    "    \"content-type\": \"application/json\",\n",
    "    \"cookie\": \"webid=1722522066198gymgfquo; _ga=GA1.1.1933820078.1722522067; _pin_unauth=dWlkPU56QTNNR0ZtWWpRdE5qaGpNUzAwTWpVeExUa3lOR0l0TW1KbU9XRmlPV1pqWWpreA; _fbp=fb.1.1722522067794.990136762487761577; _bl_uid=6zlbdzh8be9d616v62Ieggg9UU8s; liblibai_usertoken=e4b321aa535e4fa0bbb2e797ce2656c1; _rdt_uuid=1722522066470.7f91e2f6-e2a8-4ff7-b26d-672bbce85af6; _rdt_em=0000000000000000000000000000000000000000000000000000000000000001; _ga_S0NDCL8GH6=GS1.1.1722596988.3.1.1722597011.0.0.0\",\n",
    "    \"origin\": \"https://www.shakker.ai\",\n",
    "    \"priority\": \"u=1, i\",\n",
    "    \"referer\": \"https://www.shakker.ai/v4/editor\",\n",
    "    \"sec-ch-ua\": '\"Not)A;Brand\";v=\"99\", \"Google Chrome\";v=\"127\", \"Chromium\";v=\"127\"',\n",
    "    \"sec-ch-ua-mobile\": \"?0\",\n",
    "    \"sec-ch-ua-platform\": '\"Windows\"',\n",
    "    \"sec-fetch-dest\": \"empty\",\n",
    "    \"sec-fetch-mode\": \"cors\",\n",
    "    \"sec-fetch-site\": \"same-origin\",\n",
    "    \"token\": \"e4b321aa535e4fa0bbb2e797ce2656c1\",\n",
    "    \"user-agent\": \"Mozilla/5.0 (Windows NT 10.0; Win64; x64) AppleWebKit/537.36 (KHTML, like Gecko) Chrome/127.0.0.0 Safari/537.36\",\n",
    "    \"x-language\": \"en\"\n",
    "}\n",
    "\n",
    "# Define the correct payload\n",
    "status_payload = {\"flag\": 0}\n",
    "\n",
    "# Make the POST request to check the status\n",
    "status_response = requests.post(status_url, json=status_payload, headers=headers)\n",
    "\n",
    "# Check the response status\n",
    "if status_response.status_code == 200:\n",
    "    status_json = status_response.json()\n",
    "    print(status_json)  # Print the status response for debugging\n",
    "\n",
    "    percentage_completed = status_json['data']['percentCompleted']\n",
    "    print(f\"Percentage comlpeted: {percentage_completed} %\")\n"
   ]
  },
  {
   "cell_type": "markdown",
   "metadata": {},
   "source": [
    "### Get preview path:"
   ]
  },
  {
   "cell_type": "code",
   "execution_count": 100,
   "metadata": {},
   "outputs": [
    {
     "name": "stdout",
     "output_type": "stream",
     "text": [
      "Preview path: https://models-online-tmp.shakker.ai/sd-images/9877d515f63f846379a3c28acbdc083b9a42ce034187592eb57387a284e9fdad.png\n"
     ]
    }
   ],
   "source": [
    "status_response_json = status_response.json()\n",
    "preview_path = status_response_json['data']['images'][0]['previewPath']\n",
    "print(f\"Preview path: {preview_path}\")"
   ]
  },
  {
   "cell_type": "markdown",
   "metadata": {},
   "source": [
    "### Download image:"
   ]
  },
  {
   "cell_type": "code",
   "execution_count": 58,
   "metadata": {},
   "outputs": [
    {
     "name": "stdout",
     "output_type": "stream",
     "text": [
      "Image downloaded successfully\n"
     ]
    }
   ],
   "source": [
    "# Send a GET request to the image URL\n",
    "response = requests.get(preview_path)\n",
    "\n",
    "# Check the response status\n",
    "if response.status_code == 200:\n",
    "    # Save the image data to a file\n",
    "    with open(\"downloaded_image.png\", \"wb\") as file:\n",
    "        file.write(response.content)\n",
    "    print(\"Image downloaded successfully\")\n",
    "else:\n",
    "    print(f\"Failed to download image. Status code: {response.status_code}\")"
   ]
  },
  {
   "cell_type": "code",
   "execution_count": null,
   "metadata": {},
   "outputs": [],
   "source": []
  }
 ],
 "metadata": {
  "kernelspec": {
   "display_name": "ai-visuals",
   "language": "python",
   "name": "python3"
  },
  "language_info": {
   "codemirror_mode": {
    "name": "ipython",
    "version": 3
   },
   "file_extension": ".py",
   "mimetype": "text/x-python",
   "name": "python",
   "nbconvert_exporter": "python",
   "pygments_lexer": "ipython3",
   "version": "3.11.7"
  }
 },
 "nbformat": 4,
 "nbformat_minor": 2
}
